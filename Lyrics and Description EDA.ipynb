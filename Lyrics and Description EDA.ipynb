{
 "cells": [
  {
   "cell_type": "markdown",
   "id": "7f79baf9",
   "metadata": {},
   "source": [
    "# ADS 509 Assignment 2.1: Tokenization, Normalization, Descriptive Statistics \n",
    "\n",
    "This notebook holds Assignment 2.1 for Module 2 in ADS 509, Applied Text Mining. Work through this notebook, writing code and answering questions where required. \n",
    "\n",
    "In the previous assignment you put together Twitter data and lyrics data on two artists. In this assignment we explore some of the textual features of those data sets. If, for some reason, you did not complete that previous assignment, data to use for this assignment can be found in the assignment materials section of Blackboard. \n",
    "\n",
    "This assignment asks you to write a short function to calculate some descriptive statistics on a piece of text. Then you are asked to find some interesting and unique statistics on your corpora. \n"
   ]
  },
  {
   "cell_type": "code",
   "execution_count": 1,
   "id": "e2d096b7",
   "metadata": {},
   "outputs": [
    {
     "name": "stderr",
     "output_type": "stream",
     "text": [
      "[nltk_data] Downloading package stopwords to\n",
      "[nltk_data]     /Users/halledavis/nltk_data...\n",
      "[nltk_data]   Package stopwords is already up-to-date!\n"
     ]
    }
   ],
   "source": [
    "import os\n",
    "#import re\n",
    "#!pip install emoji\n",
    "import emoji\n",
    "import pandas as pd\n",
    "import numpy as np\n",
    "\n",
    "from collections import Counter, defaultdict\n",
    "import nltk\n",
    "nltk.download('stopwords')\n",
    "#from nltk.corpus import stopwords\n",
    "from string import punctuation\n",
    "\n",
    "stopwords = set(nltk.corpus.stopwords.words('english'))"
   ]
  },
  {
   "cell_type": "code",
   "execution_count": 2,
   "id": "6b555ab2",
   "metadata": {},
   "outputs": [],
   "source": [
    "# Add any additional import statements you need here\n",
    "\n",
    "import os\n",
    "import regex as re\n",
    "import glob"
   ]
  },
  {
   "cell_type": "code",
   "execution_count": 3,
   "id": "923b5a86",
   "metadata": {},
   "outputs": [],
   "source": [
    "# change `data_location` to the location of the folder on your machine.\n",
    "data_location = \"/Users/halledavis/Desktop\"\n",
    "\n",
    "# These subfolders should still work if you correctly stored the \n",
    "# data from the Module 1 assignment\n",
    "twitter_folder = \"twitter/\"\n",
    "lyrics_folder = \"lyrics/\""
   ]
  },
  {
   "cell_type": "code",
   "execution_count": 4,
   "id": "06522af9",
   "metadata": {},
   "outputs": [],
   "source": [
    "def descriptive_stats(tokens, num_tokens = 5, verbose=True) :    \n",
    "    counter = Counter()\n",
    "    tokens.map(counter.update)\n",
    "    freq_df = pd.DataFrame.from_dict(counter, orient='index', columns=['freq'])\n",
    "    \n",
    "    counter_df = pd.DataFrame.from_dict(counter, orient='index').reset_index()\n",
    "    \n",
    "    num_tokens = sum(freq_df['freq'])\n",
    "    num_unique_tokens = freq_df.shape[0]\n",
    "    lexical_diversity = num_unique_tokens / num_tokens\n",
    "    num_characters = sum((counter_df['index'].str.len()) * counter_df[0])\n",
    "    \n",
    "    if verbose :        \n",
    "        print(f\"There are {num_tokens} tokens in the data.\")\n",
    "        print(f\"There are {num_unique_tokens} unique tokens in the data.\")\n",
    "        print(f\"There are {num_characters} characters in the data.\")\n",
    "        print(f\"The lexical diversity is {lexical_diversity:.3f} in the data.\")\n",
    "        print(f\"The top 5 most common words are\")\n",
    "        print(counter.most_common(5))\n",
    "        \n",
    "    return([num_tokens, num_unique_tokens,\n",
    "            lexical_diversity,\n",
    "            num_characters])\n",
    "    "
   ]
  },
  {
   "cell_type": "code",
   "execution_count": 5,
   "id": "67bbf944",
   "metadata": {},
   "outputs": [
    {
     "data": {
      "text/html": [
       "<div>\n",
       "<style scoped>\n",
       "    .dataframe tbody tr th:only-of-type {\n",
       "        vertical-align: middle;\n",
       "    }\n",
       "\n",
       "    .dataframe tbody tr th {\n",
       "        vertical-align: top;\n",
       "    }\n",
       "\n",
       "    .dataframe thead th {\n",
       "        text-align: right;\n",
       "    }\n",
       "</style>\n",
       "<table border=\"1\" class=\"dataframe\">\n",
       "  <thead>\n",
       "    <tr style=\"text-align: right;\">\n",
       "      <th></th>\n",
       "      <th>text</th>\n",
       "    </tr>\n",
       "  </thead>\n",
       "  <tbody>\n",
       "    <tr>\n",
       "      <th>0</th>\n",
       "      <td>This is a dataframe</td>\n",
       "    </tr>\n",
       "    <tr>\n",
       "      <th>1</th>\n",
       "      <td>We like dataframes</td>\n",
       "    </tr>\n",
       "    <tr>\n",
       "      <th>2</th>\n",
       "      <td>You like dataframes</td>\n",
       "    </tr>\n",
       "    <tr>\n",
       "      <th>3</th>\n",
       "      <td>We all scream for dataframes</td>\n",
       "    </tr>\n",
       "  </tbody>\n",
       "</table>\n",
       "</div>"
      ],
      "text/plain": [
       "                           text\n",
       "0           This is a dataframe\n",
       "1            We like dataframes\n",
       "2           You like dataframes\n",
       "3  We all scream for dataframes"
      ]
     },
     "execution_count": 5,
     "metadata": {},
     "output_type": "execute_result"
    }
   ],
   "source": [
    "textdata = [\"This is a dataframe\", \"We like dataframes\", \"You like dataframes\", \"We all scream for dataframes\"]\n",
    "textdf = pd.DataFrame(textdata, columns=['text'])\n",
    "textdf"
   ]
  },
  {
   "cell_type": "code",
   "execution_count": 6,
   "id": "88d811b4",
   "metadata": {},
   "outputs": [],
   "source": [
    "def tokenize(text):\n",
    "    return re.findall(r'[\\w-]*\\p{L}[\\w-]*', text)"
   ]
  },
  {
   "cell_type": "code",
   "execution_count": 7,
   "id": "3ea82283",
   "metadata": {},
   "outputs": [],
   "source": [
    "pipeline = [str.lower, tokenize]\n",
    "def prepare(text, pipeline):\n",
    "    tokens = text\n",
    "    for transform in pipeline:\n",
    "        tokens = transform(tokens)\n",
    "    return tokens"
   ]
  },
  {
   "cell_type": "code",
   "execution_count": 8,
   "id": "ccf74855",
   "metadata": {},
   "outputs": [],
   "source": [
    "textdf['tokens'] = textdf['text'].apply(prepare, pipeline=pipeline)"
   ]
  },
  {
   "cell_type": "code",
   "execution_count": 9,
   "id": "59dcf058",
   "metadata": {},
   "outputs": [
    {
     "name": "stdout",
     "output_type": "stream",
     "text": [
      "There are 15 tokens in the data.\n",
      "There are 11 unique tokens in the data.\n",
      "There are 73 characters in the data.\n",
      "The lexical diversity is 0.733 in the data.\n",
      "The top 5 most common words are\n",
      "[('dataframes', 3), ('we', 2), ('like', 2), ('this', 1), ('is', 1)]\n"
     ]
    }
   ],
   "source": [
    "#text = \"\"\"here is some example text with other example text here in this text\"\"\".split()\n",
    "assert(descriptive_stats(textdf[\"tokens\"], verbose=True)[0] == 15)\n",
    "assert(descriptive_stats(textdf[\"tokens\"], verbose=False)[1] == 11)\n",
    "#assert(descriptive_stats(textdf[\"tokens\"], verbose=False)[2] == 0.733) # resulting in error, even though I can see it matches\n",
    "assert(descriptive_stats(textdf[\"tokens\"], verbose=False)[3] == 73)\n",
    "\n",
    "\n",
    "# I switched the QC statements to my text df rather than the provided line of text, because my ultimate\n",
    "# code will be used on a df with many rows, not just a single line of text"
   ]
  },
  {
   "cell_type": "markdown",
   "id": "d2e7e1a2",
   "metadata": {},
   "source": [
    "Q: Why is it beneficial to use assertion statements in your code? \n",
    "\n",
    "A: Assertions are helpful for QC purposes. Instead of me manually checking to make sure my output is what is expected, the assertion statement will do it automatically."
   ]
  },
  {
   "cell_type": "markdown",
   "id": "9d3bf93e",
   "metadata": {},
   "source": [
    "## Data Input\n",
    "\n",
    "Now read in each of the corpora. For the lyrics data, it may be convenient to store the entire contents of the file to make it easier to inspect the titles individually, as you'll do in the last part of the assignment. In the solution, I stored the lyrics data in a dictionary with two dimensions of keys: artist and song. The value was the file contents. A data frame would work equally well. \n",
    "\n",
    "For the Twitter data, we only need the description field for this assignment. Feel free all the descriptions read it into a data structure. In the solution, I stored the descriptions as a dictionary of lists, with the key being the artist. \n",
    "\n",
    "\n"
   ]
  },
  {
   "cell_type": "code",
   "execution_count": 10,
   "id": "37d70801",
   "metadata": {},
   "outputs": [],
   "source": [
    "# Read in the lyrics data\n",
    "\n",
    "path = \"/Users/halledavis/Desktop/lyrics/\"\n",
    "os.chdir(path)\n",
    "\n",
    "file_list = glob.glob(os.path.join(os.getcwd(), \"lilwayne\", \"*.txt\"))\n",
    "\n",
    "lilwaynelyrics = []\n",
    "\n",
    "for file_path in file_list:\n",
    "    with open(file_path) as f_input:\n",
    "        lyrics = (f_input.read())\n",
    "        file_name = file_path.split(\"/\")[-1]\n",
    "        lilwaynelyrics.append(\n",
    "            {\n",
    "                'Artist': \"Lil Wayne\",\n",
    "                'Song': file_name,\n",
    "                'Lyrics': lyrics\n",
    "            }\n",
    "        )\n",
    "        \n",
    "lilwaynelyrics = pd.DataFrame(lilwaynelyrics)"
   ]
  },
  {
   "cell_type": "code",
   "execution_count": 11,
   "id": "fd291467",
   "metadata": {},
   "outputs": [],
   "source": [
    "file_list = glob.glob(os.path.join(os.getcwd(), \"lildicky\", \"*.txt\"))\n",
    "\n",
    "lildickylyrics = []\n",
    "\n",
    "for file_path in file_list:\n",
    "    with open(file_path) as f_input:\n",
    "        lyrics = (f_input.read())\n",
    "        file_name = file_path.split(\"/\")[-1]\n",
    "        lildickylyrics.append(\n",
    "            {\n",
    "                'Artist': \"Lil Dicky\",\n",
    "                'Song': file_name,\n",
    "                'Lyrics': lyrics\n",
    "            }\n",
    "        )\n",
    "        \n",
    "lildickylyrics = pd.DataFrame(lildickylyrics)"
   ]
  },
  {
   "cell_type": "code",
   "execution_count": 12,
   "id": "1634c40a",
   "metadata": {},
   "outputs": [],
   "source": [
    "lyrics = [lilwaynelyrics, lildickylyrics]\n",
    "\n",
    "lyricsdf = pd.concat(lyrics)"
   ]
  },
  {
   "cell_type": "code",
   "execution_count": 13,
   "id": "debcac5a",
   "metadata": {},
   "outputs": [],
   "source": [
    "# Read in the twitter data\n",
    "\n",
    "path = \"/Users/halledavis/Desktop/twitter/\"\n",
    "os.chdir(path)\n",
    "twitter_files = os.listdir(\"/Users/halledavis/Desktop/twitter/\")\n",
    "desc_files = [f for f in twitter_files if \"followers_data\" in f]\n",
    "twitter_data = defaultdict(list)\n",
    "for f in desc_files :\n",
    "    artist = f.split(\"_\")[0]\n",
    "        \n",
    "    with open(path + f,'r', encoding='utf8') as infile :\n",
    "        next(infile)\n",
    "        for idx, line in enumerate(infile.readlines()) :\n",
    "            line = line.strip().split(\"\\t\")\n",
    "            if len(line) == 7 :\n",
    "                twitter_data[artist].append(line[6])"
   ]
  },
  {
   "cell_type": "markdown",
   "id": "6a5f3b12",
   "metadata": {},
   "source": [
    "## Data Cleaning\n",
    "\n",
    "Now clean and tokenize your data. Remove punctuation chacters (available in the `punctuation` object in the `string` library), split on whitespace, fold to lowercase, and remove stopwords. Store your cleaned data, which must be accessible as an interable for `descriptive_stats`, in new objects or in new columns in your data frame. \n",
    "\n"
   ]
  },
  {
   "cell_type": "code",
   "execution_count": 15,
   "id": "71c73d86",
   "metadata": {},
   "outputs": [],
   "source": [
    "punctuation = set(punctuation) # speeds up comparison"
   ]
  },
  {
   "cell_type": "code",
   "execution_count": 16,
   "id": "50fc1d7f",
   "metadata": {},
   "outputs": [],
   "source": [
    "def remove_stop(tokens):\n",
    "    return [t for t in tokens if t.lower() not in stopwords]"
   ]
  },
  {
   "cell_type": "code",
   "execution_count": 17,
   "id": "b5bbf359",
   "metadata": {},
   "outputs": [],
   "source": [
    "def tokenize(text):\n",
    "    return re.findall(r'[\\w-]*\\p{L}[\\w-]*', text)"
   ]
  },
  {
   "cell_type": "code",
   "execution_count": 18,
   "id": "e26df30f",
   "metadata": {},
   "outputs": [],
   "source": [
    "## Code to customize stopwords, if I think that's necessary\n",
    "\n",
    "#include_stopwords = {'dear', 'regards', 'must', 'would', 'also'}\n",
    "#exclude_stopwords = {'against'}\n",
    "#stopwords |= include_stopwords\n",
    "#stopwords -= exclude_stopwords"
   ]
  },
  {
   "cell_type": "code",
   "execution_count": 19,
   "id": "797e303b",
   "metadata": {},
   "outputs": [],
   "source": [
    "pipeline = [str.lower, tokenize, remove_stop]\n",
    "def prepare(text, pipeline):\n",
    "    tokens = text\n",
    "    for transform in pipeline:\n",
    "        tokens = transform(tokens)\n",
    "    return tokens"
   ]
  },
  {
   "cell_type": "code",
   "execution_count": 20,
   "id": "b327033a",
   "metadata": {},
   "outputs": [],
   "source": [
    "# create your clean twitter data here\n",
    "\n",
    "twitterdf = pd.DataFrame([(k, x) for k, v in twitter_data.items() for x in v], columns=['artist','tweet'])\n",
    "twitterdf['tokens'] = twitterdf['tweet'].apply(prepare, pipeline=pipeline)\n",
    "chertweets = twitterdf[twitterdf[\"artist\"] == \"cher\"]\n",
    "robyntweets = twitterdf[twitterdf[\"artist\"] != \"cher\"]"
   ]
  },
  {
   "cell_type": "code",
   "execution_count": 21,
   "id": "e0f22e10",
   "metadata": {},
   "outputs": [],
   "source": [
    "# create your clean lyrics data here\n",
    "\n",
    "lyricsdf['tokens'] = lyricsdf['Lyrics'].apply(prepare, pipeline=pipeline)\n",
    "lilwaynelyrics['tokens'] = lilwaynelyrics['Lyrics'].apply(prepare, pipeline=pipeline)\n",
    "lildickylyrics['tokens'] = lildickylyrics['Lyrics'].apply(prepare, pipeline=pipeline)"
   ]
  },
  {
   "cell_type": "markdown",
   "id": "f2dd0179",
   "metadata": {},
   "source": [
    "## Basic Descriptive Statistics\n",
    "\n",
    "Call your `descriptive_stats` function on both your lyrics data and your twitter data and for both artists (four total calls). "
   ]
  },
  {
   "cell_type": "code",
   "execution_count": 22,
   "id": "f0bbedd9",
   "metadata": {},
   "outputs": [
    {
     "name": "stdout",
     "output_type": "stream",
     "text": [
      "Lil Wayne Stats\n",
      "There are 8477 tokens in the data.\n",
      "There are 1929 unique tokens in the data.\n",
      "There are 40077 characters in the data.\n",
      "The lexical diversity is 0.228 in the data.\n",
      "The top 5 most common words are\n",
      "[('nigga', 261), ('like', 149), ('hot', 138), ('get', 113), ('block', 106)]\n",
      "\n",
      " Lil Dicky Stats\n",
      "There are 7487 tokens in the data.\n",
      "There are 2598 unique tokens in the data.\n",
      "There are 37178 characters in the data.\n",
      "The lexical diversity is 0.347 in the data.\n",
      "The top 5 most common words are\n",
      "[('like', 166), ('dicky', 92), ('shit', 90), ('get', 76), ('know', 71)]\n",
      "\n",
      " Cher Stats\n",
      "There are 15029528 tokens in the data.\n",
      "There are 1006266 unique tokens in the data.\n",
      "There are 88454274 characters in the data.\n",
      "The lexical diversity is 0.067 in the data.\n",
      "The top 5 most common words are\n",
      "[('love', 224409), ('life', 132119), ('music', 96443), ('de', 73389), ('co', 70139)]\n",
      "\n",
      " Robyn Stats\n",
      "There are 1463878 tokens in the data.\n",
      "There are 211724 unique tokens in the data.\n",
      "There are 8778316 characters in the data.\n",
      "The lexical diversity is 0.145 in the data.\n",
      "The top 5 most common words are\n",
      "[('music', 16087), ('co', 12565), ('love', 12172), ('https', 8067), ('och', 7934)]\n"
     ]
    },
    {
     "data": {
      "text/plain": [
       "[1463878, 211724, 0.14463227126850736, 8778316]"
      ]
     },
     "execution_count": 22,
     "metadata": {},
     "output_type": "execute_result"
    }
   ],
   "source": [
    "# calls to descriptive_stats here\n",
    "print(\"Lil Wayne Stats\")\n",
    "descriptive_stats(lilwaynelyrics[\"tokens\"])\n",
    "print(\"\\n Lil Dicky Stats\")\n",
    "descriptive_stats(lildickylyrics[\"tokens\"])\n",
    "print(\"\\n Cher Stats\")\n",
    "descriptive_stats(chertweets[\"tokens\"])\n",
    "print(\"\\n Robyn Stats\")\n",
    "descriptive_stats(robyntweets[\"tokens\"])\n"
   ]
  },
  {
   "cell_type": "markdown",
   "id": "46294409",
   "metadata": {},
   "source": [
    "Q: How do you think the \"top 5 words\" would be different if we left stopwords in the data? \n",
    "\n",
    "A: The top 5 would consist of uninformative words like \"the\", \"a\", \"and\", \"in\", \"is\". \n",
    "\n",
    "---\n",
    "\n",
    "Q: What were your prior beliefs about the lexical diversity between the artists? Does the difference (or lack thereof) in lexical diversity between the artists conform to your prior beliefs? \n",
    "\n",
    "A: I would have assumed Lil Dicky has higher lexical diversity then Lil Wayne because his rap contains a higher variety of topics and his metaphors are more out there. This was supported by the output of the descriptive statistics function.\n"
   ]
  },
  {
   "cell_type": "markdown",
   "id": "4d4e1ac1",
   "metadata": {},
   "source": [
    "\n",
    "## Specialty Statistics\n",
    "\n",
    "The descriptive statistics we have calculated are quite generic. You will now calculate a handful of statistics tailored to these data.\n",
    "\n",
    "1. Ten most common emojis by artist in the twitter descriptions.\n",
    "1. Ten most common hashtags by artist in the twitter descriptions.\n",
    "1. Five most common words in song titles by artist. \n",
    "1. For each artist, a histogram of song lengths (in terms of number of tokens) \n",
    "\n",
    "We can use the `emoji` library to help us identify emojis and you have been given a function to help you.\n"
   ]
  },
  {
   "cell_type": "code",
   "execution_count": 23,
   "id": "753a5a3e",
   "metadata": {},
   "outputs": [],
   "source": [
    "assert(emoji.is_emoji(\"❤️\"))\n",
    "assert(not emoji.is_emoji(\":-)\"))"
   ]
  },
  {
   "cell_type": "markdown",
   "id": "986fc4c0",
   "metadata": {},
   "source": [
    "### Emojis 😁\n",
    "\n",
    "What are the ten most common emojis by artist in the twitter descriptions? \n"
   ]
  },
  {
   "cell_type": "code",
   "execution_count": 24,
   "id": "efff6e7c",
   "metadata": {},
   "outputs": [
    {
     "name": "stderr",
     "output_type": "stream",
     "text": [
      "/var/folders/4w/bl1whnz1491dljnl9k34l06h0000gn/T/ipykernel_72475/3473263857.py:12: SettingWithCopyWarning: \n",
      "A value is trying to be set on a copy of a slice from a DataFrame.\n",
      "Try using .loc[row_indexer,col_indexer] = value instead\n",
      "\n",
      "See the caveats in the documentation: https://pandas.pydata.org/pandas-docs/stable/user_guide/indexing.html#returning-a-view-versus-a-copy\n",
      "  chertweets['has_emoji'] = contains_emoji\n"
     ]
    }
   ],
   "source": [
    "contains_emoji = []\n",
    "emojis = []\n",
    "            \n",
    "for row in chertweets['tweet']:\n",
    "    emoji_found = False\n",
    "    for char in row:\n",
    "        if emoji.is_emoji(char):\n",
    "            emoji_found = True\n",
    "            emojis.append(char)\n",
    "    contains_emoji.append(emoji_found)\n",
    "\n",
    "chertweets['has_emoji'] = contains_emoji"
   ]
  },
  {
   "cell_type": "code",
   "execution_count": 25,
   "id": "f6627750",
   "metadata": {},
   "outputs": [],
   "source": [
    "cheremojis = emojis\n",
    "cheremojis = pd.DataFrame(cheremojis, columns=['emojis'])"
   ]
  },
  {
   "cell_type": "code",
   "execution_count": 26,
   "id": "cde22430",
   "metadata": {
    "scrolled": true
   },
   "outputs": [
    {
     "name": "stderr",
     "output_type": "stream",
     "text": [
      "/var/folders/4w/bl1whnz1491dljnl9k34l06h0000gn/T/ipykernel_72475/2943622266.py:12: SettingWithCopyWarning: \n",
      "A value is trying to be set on a copy of a slice from a DataFrame.\n",
      "Try using .loc[row_indexer,col_indexer] = value instead\n",
      "\n",
      "See the caveats in the documentation: https://pandas.pydata.org/pandas-docs/stable/user_guide/indexing.html#returning-a-view-versus-a-copy\n",
      "  robyntweets['has_emoji'] = contains_emoji\n"
     ]
    }
   ],
   "source": [
    "contains_emoji = []\n",
    "emojis = []\n",
    "            \n",
    "for row in robyntweets['tweet']:\n",
    "    emoji_found = False\n",
    "    for char in row:\n",
    "        if emoji.is_emoji(char):\n",
    "            emoji_found = True\n",
    "            emojis.append(char)\n",
    "    contains_emoji.append(emoji_found)\n",
    "\n",
    "robyntweets['has_emoji'] = contains_emoji"
   ]
  },
  {
   "cell_type": "code",
   "execution_count": 27,
   "id": "8f4b20a3",
   "metadata": {},
   "outputs": [],
   "source": [
    "robynemojis = emojis\n",
    "robynemojis = pd.DataFrame(robynemojis, columns=['emojis'])"
   ]
  },
  {
   "cell_type": "code",
   "execution_count": 28,
   "id": "5ebc81da",
   "metadata": {},
   "outputs": [
    {
     "name": "stdout",
     "output_type": "stream",
     "text": [
      "Top Cher Emojis\n",
      "['❤', '🌈', '♥', '🏳', '✨', '💙', '🏻', '🌊', '✌', '💜']\n",
      "\n",
      " Top Robyn Emojis\n",
      "['❤', '🌈', '🏳', '♥', '✨', '🏻', '✌', '🏼', '♀', '💙']\n"
     ]
    }
   ],
   "source": [
    "n = 10\n",
    "print(\"Top Cher Emojis\")\n",
    "print(cheremojis['emojis'].value_counts()[:n].index.tolist())\n",
    "print(\"\\n Top Robyn Emojis\")\n",
    "print(robynemojis['emojis'].value_counts()[:n].index.tolist())"
   ]
  },
  {
   "cell_type": "markdown",
   "id": "bab9b770",
   "metadata": {},
   "source": [
    "### Hashtags\n",
    "\n",
    "What are the ten most common hashtags by artist in the twitter descriptions? \n"
   ]
  },
  {
   "cell_type": "code",
   "execution_count": 29,
   "id": "0c841012",
   "metadata": {},
   "outputs": [],
   "source": [
    "cherhashtags = chertweets.tweet.str.findall(r'#.*?(?=\\s|$)')\n",
    "cherhashtags = cherhashtags.to_frame()\n",
    "cherhashtags = cherhashtags[cherhashtags['tweet'].astype(str).str.contains(\"#\")]"
   ]
  },
  {
   "cell_type": "code",
   "execution_count": 30,
   "id": "61a7e772",
   "metadata": {},
   "outputs": [],
   "source": [
    "robynhashtags = robyntweets.tweet.str.findall(r'#.*?(?=\\s|$)')\n",
    "robynhashtags = robynhashtags.to_frame()\n",
    "robynhashtags = robynhashtags[robynhashtags['tweet'].astype(str).str.contains(\"#\")]"
   ]
  },
  {
   "cell_type": "code",
   "execution_count": 31,
   "id": "5d32d9b9",
   "metadata": {},
   "outputs": [],
   "source": [
    "cherhashtags = cherhashtags.explode(\"tweet\")\n",
    "robynhashtags = robynhashtags.explode(\"tweet\")"
   ]
  },
  {
   "cell_type": "code",
   "execution_count": 32,
   "id": "632dc6ce",
   "metadata": {},
   "outputs": [
    {
     "name": "stdout",
     "output_type": "stream",
     "text": [
      "Top Cher Hashtags\n",
      "['#BLM', '#Resist', '#BlackLivesMatter', '#resist', '#', '#FBR', '#TheResistance', '#blacklivesmatter', '#1', '#Resistance']\n",
      "\n",
      " Top Robyn Hashtags\n",
      "['#BlackLivesMatter', '#BLM', '#', '#blacklivesmatter', '#1', '#music', '#Music', '#EDM', '#TeamFollowBack', '#blm']\n"
     ]
    }
   ],
   "source": [
    "n = 10\n",
    "print(\"Top Cher Hashtags\")\n",
    "print(cherhashtags['tweet'].value_counts()[:n].index.tolist())\n",
    "print(\"\\n Top Robyn Hashtags\")\n",
    "print(robynhashtags['tweet'].value_counts()[:n].index.tolist())"
   ]
  },
  {
   "cell_type": "markdown",
   "id": "d10f21d5",
   "metadata": {},
   "source": [
    "### Song Titles\n",
    "\n",
    "What are the five most common words in song titles by artist? The song titles should be on the first line of the lyrics pages, so if you have kept the raw file contents around, you will not need to re-read the data.\n"
   ]
  },
  {
   "cell_type": "code",
   "execution_count": 33,
   "id": "bb69b36b",
   "metadata": {},
   "outputs": [],
   "source": [
    "path = \"/Users/halledavis/Desktop/lyrics/\"\n",
    "os.chdir(path)\n",
    "\n",
    "file_list = glob.glob(os.path.join(os.getcwd(), \"lilwayne\", \"*.txt\"))\n",
    "\n",
    "lilwaynesongtitles = []\n",
    "\n",
    "for file_path in file_list:\n",
    "    with open(file_path) as f:\n",
    "        lilwaynesongtitles.append(f.readline().strip('\\n'))\n",
    "   \n",
    "lilwaynesongtitles = pd.DataFrame(lilwaynesongtitles, columns=['titles'])"
   ]
  },
  {
   "cell_type": "code",
   "execution_count": 34,
   "id": "4d7ec791",
   "metadata": {},
   "outputs": [],
   "source": [
    "path = \"/Users/halledavis/Desktop/lyrics/\"\n",
    "os.chdir(path)\n",
    "\n",
    "file_list = glob.glob(os.path.join(os.getcwd(), \"lildicky\", \"*.txt\"))\n",
    "\n",
    "lildickysongtitles = []\n",
    "\n",
    "for file_path in file_list:\n",
    "    with open(file_path) as f:\n",
    "        lildickysongtitles.append(f.readline().strip('\\n'))\n",
    "   \n",
    "lildickysongtitles = pd.DataFrame(lildickysongtitles, columns=['titles'])"
   ]
  },
  {
   "cell_type": "code",
   "execution_count": 35,
   "id": "8e89c267",
   "metadata": {},
   "outputs": [],
   "source": [
    "lilwaynesongtitles['tokens'] = lilwaynesongtitles['titles'].apply(prepare, pipeline=pipeline)\n",
    "lildickysongtitles['tokens'] = lildickysongtitles['titles'].apply(prepare, pipeline=pipeline)"
   ]
  },
  {
   "cell_type": "code",
   "execution_count": 36,
   "id": "b6881acb",
   "metadata": {},
   "outputs": [
    {
     "name": "stdout",
     "output_type": "stream",
     "text": [
      "Top Lil Wayne Title Words\n",
      "There are 39 tokens in the data.\n",
      "There are 33 unique tokens in the data.\n",
      "There are 173 characters in the data.\n",
      "The lexical diversity is 0.846 in the data.\n",
      "The top 5 most common words are\n",
      "[('hot', 3), ('like', 2), ('intro', 2), ('tha', 2), ('block', 2)]\n",
      "\n",
      " Top Lil Dicky Title Words\n",
      "There are 34 tokens in the data.\n",
      "There are 33 unique tokens in the data.\n",
      "There are 164 characters in the data.\n",
      "The lexical diversity is 0.971 in the data.\n",
      "The top 5 most common words are\n",
      "[('dude', 2), ('staying', 1), ('jewish', 1), ('flow', 1), ('sky', 1)]\n"
     ]
    },
    {
     "data": {
      "text/plain": [
       "[34, 33, 0.9705882352941176, 164]"
      ]
     },
     "execution_count": 36,
     "metadata": {},
     "output_type": "execute_result"
    }
   ],
   "source": [
    "n = 5\n",
    "print(\"Top Lil Wayne Title Words\")\n",
    "descriptive_stats(lilwaynesongtitles[\"tokens\"])\n",
    "print(\"\\n Top Lil Dicky Title Words\")\n",
    "descriptive_stats(lildickysongtitles[\"tokens\"])"
   ]
  },
  {
   "cell_type": "markdown",
   "id": "5dd4fd71",
   "metadata": {},
   "source": [
    "### Song Lengths\n",
    "\n",
    "For each artist, a histogram of song lengths (in terms of number of tokens). If you put the song lengths in a data frame with an artist column, matplotlib will make the plotting quite easy. An example is given to help you out. \n"
   ]
  },
  {
   "cell_type": "code",
   "execution_count": 37,
   "id": "805a1e52",
   "metadata": {},
   "outputs": [
    {
     "data": {
      "text/plain": [
       "artist\n",
       "Artist 1    AxesSubplot(0.125,0.125;0.775x0.755)\n",
       "Artist 2    AxesSubplot(0.125,0.125;0.775x0.755)\n",
       "Name: length, dtype: object"
      ]
     },
     "execution_count": 37,
     "metadata": {},
     "output_type": "execute_result"
    },
    {
     "data": {
      "image/png": "[encoded data removed]",
      "text/plain": [
       "<Figure size 432x288 with 1 Axes>"
      ]
     },
     "metadata": {
      "needs_background": "light"
     },
     "output_type": "display_data"
    }
   ],
   "source": [
    "num_replicates = 1000\n",
    "\n",
    "df = pd.DataFrame({\n",
    "    \"artist\" : ['Artist 1'] * num_replicates + ['Artist 2'] * num_replicates,\n",
    "    \"length\" : np.concatenate((np.random.poisson(125,num_replicates),np.random.poisson(150,num_replicates)))\n",
    "})\n",
    "\n",
    "df.groupby('artist')['length'].plot(kind=\"hist\",density=True,alpha=0.5,legend=True)"
   ]
  },
  {
   "cell_type": "markdown",
   "id": "8fde9ebb",
   "metadata": {},
   "source": [
    "Since the lyrics may be stored with carriage returns or tabs, it may be useful to have a function that can collapse whitespace, using regular expressions, and be used for splitting. \n",
    "\n",
    "Q: What does the regular expression `'\\s+'` match on? \n",
    "\n",
    "A: It matches one or more whitespace characters.\n"
   ]
  },
  {
   "cell_type": "code",
   "execution_count": 38,
   "id": "f0e34516",
   "metadata": {},
   "outputs": [],
   "source": [
    "collapse_whitespace = re.compile(r'\\s+')\n",
    "\n",
    "def tokenize_lyrics(lyric) : \n",
    "    \"\"\"strip and split on whitespace\"\"\"\n",
    "    return([item.lower() for item in collapse_whitespace.split(lyric)])"
   ]
  },
  {
   "cell_type": "code",
   "execution_count": 39,
   "id": "2294c440",
   "metadata": {},
   "outputs": [],
   "source": [
    "# Your lyric length comparison chart here. \n",
    "lyricsdf['length'] = lyricsdf['Lyrics'].str.split().str.len()"
   ]
  },
  {
   "cell_type": "code",
   "execution_count": 40,
   "id": "574cd620",
   "metadata": {},
   "outputs": [
    {
     "data": {
      "text/plain": [
       "Artist\n",
       "Lil Dicky    AxesSubplot(0.125,0.125;0.775x0.755)\n",
       "Lil Wayne    AxesSubplot(0.125,0.125;0.775x0.755)\n",
       "Name: length, dtype: object"
      ]
     },
     "execution_count": 40,
     "metadata": {},
     "output_type": "execute_result"
    },
    {
     "data": {
      "image/png": "[encoded data removed]",
      "text/plain": [
       "<Figure size 432x288 with 1 Axes>"
      ]
     },
     "metadata": {
      "needs_background": "light"
     },
     "output_type": "display_data"
    }
   ],
   "source": [
    "lyricsdf.groupby('Artist')['length'].plot(kind=\"hist\",density=True,alpha=0.5,legend=True)"
   ]
  }
 ],
 "metadata": {
  "kernelspec": {
   "display_name": "Python 3 (ipykernel)",
   "language": "python",
   "name": "python3"
  },
  "language_info": {
   "codemirror_mode": {
    "name": "ipython",
    "version": 3
   },
   "file_extension": ".py",
   "mimetype": "text/x-python",
   "name": "python",
   "nbconvert_exporter": "python",
   "pygments_lexer": "ipython3",
   "version": "3.9.7"
  }
 },
 "nbformat": 4,
 "nbformat_minor": 5
}
